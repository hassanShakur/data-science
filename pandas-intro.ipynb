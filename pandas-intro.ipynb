{
 "cells": [
  {
   "cell_type": "markdown",
   "id": "5826f745",
   "metadata": {},
   "source": [
    "# Pandas"
   ]
  },
  {
   "cell_type": "markdown",
   "id": "99d6ca83",
   "metadata": {},
   "source": [
    "## Series - 1D frames\n",
    "\n",
    "Accepts `lists` as param and returns the list with indices."
   ]
  },
  {
   "cell_type": "code",
   "execution_count": 1,
   "id": "d671512c",
   "metadata": {},
   "outputs": [],
   "source": [
    "import pandas as pd"
   ]
  },
  {
   "cell_type": "code",
   "execution_count": 9,
   "id": "6067aea7",
   "metadata": {},
   "outputs": [],
   "source": [
    "names = pd.Series(['Jane', 'Tracy', 'John', 'Liz', 'Hannan', 'Hassan', 'Joyce', 'Peter', 'Ann'])"
   ]
  },
  {
   "cell_type": "code",
   "execution_count": 11,
   "id": "0ff6bc0d",
   "metadata": {},
   "outputs": [
    {
     "data": {
      "text/plain": [
       "0    22\n",
       "1    19\n",
       "2    34\n",
       "3    18\n",
       "4    22\n",
       "5    22\n",
       "6    25\n",
       "7    30\n",
       "8    29\n",
       "dtype: int64"
      ]
     },
     "execution_count": 11,
     "metadata": {},
     "output_type": "execute_result"
    }
   ],
   "source": [
    "ages = pd.Series([22, 19, 34, 18, 22, 22, 25, 30, 29])\n",
    "ages"
   ]
  },
  {
   "cell_type": "code",
   "execution_count": 13,
   "id": "f095de9a",
   "metadata": {},
   "outputs": [],
   "source": [
    "ratings = pd.Series([2, 3, 1, 4, 5, 4, 4, 3, 3])"
   ]
  },
  {
   "cell_type": "code",
   "execution_count": 14,
   "id": "aa161c10",
   "metadata": {},
   "outputs": [],
   "source": [
    "fav_food = pd.Series(['Apples', 'Bananas', 'Salad', 'Chicken', 'Shawarma', 'Berries', 'Pizza', 'Coke', 'Fruit juice'])"
   ]
  },
  {
   "cell_type": "markdown",
   "id": "73a06a4a",
   "metadata": {},
   "source": [
    "## DataFrames - 2d representation\n",
    "\n",
    "These accept `dictionaries` as input and returns a 2d structured - table like data."
   ]
  },
  {
   "cell_type": "code",
   "execution_count": 25,
   "id": "f1b9b8ab",
   "metadata": {},
   "outputs": [
    {
     "data": {
      "text/html": [
       "<div>\n",
       "<style scoped>\n",
       "    .dataframe tbody tr th:only-of-type {\n",
       "        vertical-align: middle;\n",
       "    }\n",
       "\n",
       "    .dataframe tbody tr th {\n",
       "        vertical-align: top;\n",
       "    }\n",
       "\n",
       "    .dataframe thead th {\n",
       "        text-align: right;\n",
       "    }\n",
       "</style>\n",
       "<table border=\"1\" class=\"dataframe\">\n",
       "  <thead>\n",
       "    <tr style=\"text-align: right;\">\n",
       "      <th></th>\n",
       "      <th>Name</th>\n",
       "      <th>Age</th>\n",
       "      <th>Rating</th>\n",
       "      <th>Favourite Food</th>\n",
       "    </tr>\n",
       "  </thead>\n",
       "  <tbody>\n",
       "    <tr>\n",
       "      <th>0</th>\n",
       "      <td>Jane</td>\n",
       "      <td>22</td>\n",
       "      <td>2</td>\n",
       "      <td>Apples</td>\n",
       "    </tr>\n",
       "    <tr>\n",
       "      <th>1</th>\n",
       "      <td>Tracy</td>\n",
       "      <td>19</td>\n",
       "      <td>3</td>\n",
       "      <td>Bananas</td>\n",
       "    </tr>\n",
       "    <tr>\n",
       "      <th>2</th>\n",
       "      <td>John</td>\n",
       "      <td>34</td>\n",
       "      <td>1</td>\n",
       "      <td>Salad</td>\n",
       "    </tr>\n",
       "    <tr>\n",
       "      <th>3</th>\n",
       "      <td>Liz</td>\n",
       "      <td>18</td>\n",
       "      <td>4</td>\n",
       "      <td>Chicken</td>\n",
       "    </tr>\n",
       "    <tr>\n",
       "      <th>4</th>\n",
       "      <td>Hannan</td>\n",
       "      <td>22</td>\n",
       "      <td>5</td>\n",
       "      <td>Shawarma</td>\n",
       "    </tr>\n",
       "    <tr>\n",
       "      <th>5</th>\n",
       "      <td>Hassan</td>\n",
       "      <td>22</td>\n",
       "      <td>4</td>\n",
       "      <td>Berries</td>\n",
       "    </tr>\n",
       "    <tr>\n",
       "      <th>6</th>\n",
       "      <td>Joyce</td>\n",
       "      <td>25</td>\n",
       "      <td>4</td>\n",
       "      <td>Pizza</td>\n",
       "    </tr>\n",
       "    <tr>\n",
       "      <th>7</th>\n",
       "      <td>Peter</td>\n",
       "      <td>30</td>\n",
       "      <td>3</td>\n",
       "      <td>Coke</td>\n",
       "    </tr>\n",
       "    <tr>\n",
       "      <th>8</th>\n",
       "      <td>Ann</td>\n",
       "      <td>29</td>\n",
       "      <td>3</td>\n",
       "      <td>Fruit juice</td>\n",
       "    </tr>\n",
       "  </tbody>\n",
       "</table>\n",
       "</div>"
      ],
      "text/plain": [
       "     Name  Age  Rating Favourite Food\n",
       "0    Jane   22       2         Apples\n",
       "1   Tracy   19       3        Bananas\n",
       "2    John   34       1          Salad\n",
       "3     Liz   18       4        Chicken\n",
       "4  Hannan   22       5       Shawarma\n",
       "5  Hassan   22       4        Berries\n",
       "6   Joyce   25       4          Pizza\n",
       "7   Peter   30       3           Coke\n",
       "8     Ann   29       3    Fruit juice"
      ]
     },
     "execution_count": 25,
     "metadata": {},
     "output_type": "execute_result"
    }
   ],
   "source": [
    "people = pd.DataFrame({'Name': names, 'Age': ages, 'Rating': ratings, 'Favourite Food': fav_food})\n",
    "people"
   ]
  },
  {
   "cell_type": "markdown",
   "id": "f539a0c2",
   "metadata": {},
   "source": [
    "## Exporting Data\n",
    "\n",
    "We have `to_csv` & `to_excell`."
   ]
  },
  {
   "cell_type": "code",
   "execution_count": 26,
   "id": "d085e57a",
   "metadata": {},
   "outputs": [],
   "source": [
    "people.to_csv('data/people_data.csv', index=False)\n",
    "\n",
    "# This requires 'openpyxl'\n",
    "# people_data.to_excel('data/people_data.xlsx', index=False)"
   ]
  },
  {
   "cell_type": "markdown",
   "id": "abba2ebb",
   "metadata": {},
   "source": [
    "## Reading Data\n",
    "\n",
    "From `.csv`"
   ]
  },
  {
   "cell_type": "code",
   "execution_count": 23,
   "id": "cb44e18d",
   "metadata": {},
   "outputs": [],
   "source": [
    "read_data = pd.read_csv('data/people_data.csv')"
   ]
  },
  {
   "cell_type": "code",
   "execution_count": 24,
   "id": "e818dcf3",
   "metadata": {},
   "outputs": [
    {
     "data": {
      "text/html": [
       "<div>\n",
       "<style scoped>\n",
       "    .dataframe tbody tr th:only-of-type {\n",
       "        vertical-align: middle;\n",
       "    }\n",
       "\n",
       "    .dataframe tbody tr th {\n",
       "        vertical-align: top;\n",
       "    }\n",
       "\n",
       "    .dataframe thead th {\n",
       "        text-align: right;\n",
       "    }\n",
       "</style>\n",
       "<table border=\"1\" class=\"dataframe\">\n",
       "  <thead>\n",
       "    <tr style=\"text-align: right;\">\n",
       "      <th></th>\n",
       "      <th>Name</th>\n",
       "      <th>Age</th>\n",
       "      <th>Rating</th>\n",
       "      <th>Favourite Food</th>\n",
       "    </tr>\n",
       "  </thead>\n",
       "  <tbody>\n",
       "    <tr>\n",
       "      <th>0</th>\n",
       "      <td>Jane</td>\n",
       "      <td>22</td>\n",
       "      <td>2</td>\n",
       "      <td>Apples</td>\n",
       "    </tr>\n",
       "    <tr>\n",
       "      <th>1</th>\n",
       "      <td>Tracy</td>\n",
       "      <td>19</td>\n",
       "      <td>3</td>\n",
       "      <td>Bananas</td>\n",
       "    </tr>\n",
       "    <tr>\n",
       "      <th>2</th>\n",
       "      <td>John</td>\n",
       "      <td>34</td>\n",
       "      <td>1</td>\n",
       "      <td>Salad</td>\n",
       "    </tr>\n",
       "    <tr>\n",
       "      <th>3</th>\n",
       "      <td>Liz</td>\n",
       "      <td>18</td>\n",
       "      <td>4</td>\n",
       "      <td>Chicken</td>\n",
       "    </tr>\n",
       "    <tr>\n",
       "      <th>4</th>\n",
       "      <td>Hannan</td>\n",
       "      <td>22</td>\n",
       "      <td>5</td>\n",
       "      <td>Shawarma</td>\n",
       "    </tr>\n",
       "    <tr>\n",
       "      <th>5</th>\n",
       "      <td>Hassan</td>\n",
       "      <td>22</td>\n",
       "      <td>4</td>\n",
       "      <td>Berries</td>\n",
       "    </tr>\n",
       "    <tr>\n",
       "      <th>6</th>\n",
       "      <td>Joyce</td>\n",
       "      <td>25</td>\n",
       "      <td>4</td>\n",
       "      <td>Pizza</td>\n",
       "    </tr>\n",
       "    <tr>\n",
       "      <th>7</th>\n",
       "      <td>Peter</td>\n",
       "      <td>30</td>\n",
       "      <td>3</td>\n",
       "      <td>Coke</td>\n",
       "    </tr>\n",
       "    <tr>\n",
       "      <th>8</th>\n",
       "      <td>Ann</td>\n",
       "      <td>29</td>\n",
       "      <td>3</td>\n",
       "      <td>Fruit juice</td>\n",
       "    </tr>\n",
       "  </tbody>\n",
       "</table>\n",
       "</div>"
      ],
      "text/plain": [
       "     Name  Age  Rating Favourite Food\n",
       "0    Jane   22       2         Apples\n",
       "1   Tracy   19       3        Bananas\n",
       "2    John   34       1          Salad\n",
       "3     Liz   18       4        Chicken\n",
       "4  Hannan   22       5       Shawarma\n",
       "5  Hassan   22       4        Berries\n",
       "6   Joyce   25       4          Pizza\n",
       "7   Peter   30       3           Coke\n",
       "8     Ann   29       3    Fruit juice"
      ]
     },
     "execution_count": 24,
     "metadata": {},
     "output_type": "execute_result"
    }
   ],
   "source": [
    "read_data"
   ]
  },
  {
   "cell_type": "markdown",
   "id": "8ce40a0c",
   "metadata": {},
   "source": [
    "## Describing Data"
   ]
  },
  {
   "cell_type": "code",
   "execution_count": 28,
   "id": "5641ea47",
   "metadata": {},
   "outputs": [
    {
     "data": {
      "text/plain": [
       "Name              object\n",
       "Age                int64\n",
       "Rating             int64\n",
       "Favourite Food    object\n",
       "dtype: object"
      ]
     },
     "execution_count": 28,
     "metadata": {},
     "output_type": "execute_result"
    }
   ],
   "source": [
    "people.dtypes"
   ]
  },
  {
   "cell_type": "code",
   "execution_count": 29,
   "id": "20a60100",
   "metadata": {},
   "outputs": [
    {
     "data": {
      "text/plain": [
       "Index(['Name', 'Age', 'Rating', 'Favourite Food'], dtype='object')"
      ]
     },
     "execution_count": 29,
     "metadata": {},
     "output_type": "execute_result"
    }
   ],
   "source": [
    "people.columns"
   ]
  },
  {
   "cell_type": "code",
   "execution_count": 30,
   "id": "45d7c6fb",
   "metadata": {},
   "outputs": [
    {
     "data": {
      "text/plain": [
       "RangeIndex(start=0, stop=9, step=1)"
      ]
     },
     "execution_count": 30,
     "metadata": {},
     "output_type": "execute_result"
    }
   ],
   "source": [
    "people.index"
   ]
  },
  {
   "cell_type": "markdown",
   "id": "b9a1786d",
   "metadata": {},
   "source": [
    "### Note\n",
    "Describe() only works on numeric columns."
   ]
  },
  {
   "cell_type": "code",
   "execution_count": 32,
   "id": "98eb86bf",
   "metadata": {},
   "outputs": [
    {
     "data": {
      "text/html": [
       "<div>\n",
       "<style scoped>\n",
       "    .dataframe tbody tr th:only-of-type {\n",
       "        vertical-align: middle;\n",
       "    }\n",
       "\n",
       "    .dataframe tbody tr th {\n",
       "        vertical-align: top;\n",
       "    }\n",
       "\n",
       "    .dataframe thead th {\n",
       "        text-align: right;\n",
       "    }\n",
       "</style>\n",
       "<table border=\"1\" class=\"dataframe\">\n",
       "  <thead>\n",
       "    <tr style=\"text-align: right;\">\n",
       "      <th></th>\n",
       "      <th>Age</th>\n",
       "      <th>Rating</th>\n",
       "    </tr>\n",
       "  </thead>\n",
       "  <tbody>\n",
       "    <tr>\n",
       "      <th>count</th>\n",
       "      <td>9.000000</td>\n",
       "      <td>9.000000</td>\n",
       "    </tr>\n",
       "    <tr>\n",
       "      <th>mean</th>\n",
       "      <td>24.555556</td>\n",
       "      <td>3.222222</td>\n",
       "    </tr>\n",
       "    <tr>\n",
       "      <th>std</th>\n",
       "      <td>5.387743</td>\n",
       "      <td>1.201850</td>\n",
       "    </tr>\n",
       "    <tr>\n",
       "      <th>min</th>\n",
       "      <td>18.000000</td>\n",
       "      <td>1.000000</td>\n",
       "    </tr>\n",
       "    <tr>\n",
       "      <th>25%</th>\n",
       "      <td>22.000000</td>\n",
       "      <td>3.000000</td>\n",
       "    </tr>\n",
       "    <tr>\n",
       "      <th>50%</th>\n",
       "      <td>22.000000</td>\n",
       "      <td>3.000000</td>\n",
       "    </tr>\n",
       "    <tr>\n",
       "      <th>75%</th>\n",
       "      <td>29.000000</td>\n",
       "      <td>4.000000</td>\n",
       "    </tr>\n",
       "    <tr>\n",
       "      <th>max</th>\n",
       "      <td>34.000000</td>\n",
       "      <td>5.000000</td>\n",
       "    </tr>\n",
       "  </tbody>\n",
       "</table>\n",
       "</div>"
      ],
      "text/plain": [
       "             Age    Rating\n",
       "count   9.000000  9.000000\n",
       "mean   24.555556  3.222222\n",
       "std     5.387743  1.201850\n",
       "min    18.000000  1.000000\n",
       "25%    22.000000  3.000000\n",
       "50%    22.000000  3.000000\n",
       "75%    29.000000  4.000000\n",
       "max    34.000000  5.000000"
      ]
     },
     "execution_count": 32,
     "metadata": {},
     "output_type": "execute_result"
    }
   ],
   "source": [
    "people.describe()"
   ]
  },
  {
   "cell_type": "code",
   "execution_count": 33,
   "id": "2d57430f",
   "metadata": {},
   "outputs": [
    {
     "name": "stdout",
     "output_type": "stream",
     "text": [
      "<class 'pandas.core.frame.DataFrame'>\n",
      "RangeIndex: 9 entries, 0 to 8\n",
      "Data columns (total 4 columns):\n",
      " #   Column          Non-Null Count  Dtype \n",
      "---  ------          --------------  ----- \n",
      " 0   Name            9 non-null      object\n",
      " 1   Age             9 non-null      int64 \n",
      " 2   Rating          9 non-null      int64 \n",
      " 3   Favourite Food  9 non-null      object\n",
      "dtypes: int64(2), object(2)\n",
      "memory usage: 416.0+ bytes\n"
     ]
    }
   ],
   "source": [
    "people.info()"
   ]
  },
  {
   "cell_type": "code",
   "execution_count": 34,
   "id": "5d1e6370",
   "metadata": {},
   "outputs": [
    {
     "data": {
      "text/plain": [
       "3.2222222222222223"
      ]
     },
     "execution_count": 34,
     "metadata": {},
     "output_type": "execute_result"
    }
   ],
   "source": [
    "people['Rating'].mean()"
   ]
  },
  {
   "cell_type": "code",
   "execution_count": 35,
   "id": "96115837",
   "metadata": {},
   "outputs": [
    {
     "data": {
      "text/plain": [
       "9"
      ]
     },
     "execution_count": 35,
     "metadata": {},
     "output_type": "execute_result"
    }
   ],
   "source": [
    "len(people)"
   ]
  },
  {
   "cell_type": "markdown",
   "id": "fc2f5ef4",
   "metadata": {},
   "source": [
    "## Viewing and Selecting Data"
   ]
  },
  {
   "cell_type": "code",
   "execution_count": 36,
   "id": "be4f6369",
   "metadata": {},
   "outputs": [
    {
     "data": {
      "text/html": [
       "<div>\n",
       "<style scoped>\n",
       "    .dataframe tbody tr th:only-of-type {\n",
       "        vertical-align: middle;\n",
       "    }\n",
       "\n",
       "    .dataframe tbody tr th {\n",
       "        vertical-align: top;\n",
       "    }\n",
       "\n",
       "    .dataframe thead th {\n",
       "        text-align: right;\n",
       "    }\n",
       "</style>\n",
       "<table border=\"1\" class=\"dataframe\">\n",
       "  <thead>\n",
       "    <tr style=\"text-align: right;\">\n",
       "      <th></th>\n",
       "      <th>Name</th>\n",
       "      <th>Age</th>\n",
       "      <th>Rating</th>\n",
       "      <th>Favourite Food</th>\n",
       "    </tr>\n",
       "  </thead>\n",
       "  <tbody>\n",
       "    <tr>\n",
       "      <th>0</th>\n",
       "      <td>Jane</td>\n",
       "      <td>22</td>\n",
       "      <td>2</td>\n",
       "      <td>Apples</td>\n",
       "    </tr>\n",
       "    <tr>\n",
       "      <th>1</th>\n",
       "      <td>Tracy</td>\n",
       "      <td>19</td>\n",
       "      <td>3</td>\n",
       "      <td>Bananas</td>\n",
       "    </tr>\n",
       "    <tr>\n",
       "      <th>2</th>\n",
       "      <td>John</td>\n",
       "      <td>34</td>\n",
       "      <td>1</td>\n",
       "      <td>Salad</td>\n",
       "    </tr>\n",
       "    <tr>\n",
       "      <th>3</th>\n",
       "      <td>Liz</td>\n",
       "      <td>18</td>\n",
       "      <td>4</td>\n",
       "      <td>Chicken</td>\n",
       "    </tr>\n",
       "    <tr>\n",
       "      <th>4</th>\n",
       "      <td>Hannan</td>\n",
       "      <td>22</td>\n",
       "      <td>5</td>\n",
       "      <td>Shawarma</td>\n",
       "    </tr>\n",
       "  </tbody>\n",
       "</table>\n",
       "</div>"
      ],
      "text/plain": [
       "     Name  Age  Rating Favourite Food\n",
       "0    Jane   22       2         Apples\n",
       "1   Tracy   19       3        Bananas\n",
       "2    John   34       1          Salad\n",
       "3     Liz   18       4        Chicken\n",
       "4  Hannan   22       5       Shawarma"
      ]
     },
     "execution_count": 36,
     "metadata": {},
     "output_type": "execute_result"
    }
   ],
   "source": [
    "people.head()"
   ]
  },
  {
   "cell_type": "markdown",
   "id": "e018a4ae",
   "metadata": {},
   "source": [
    "### Get Row By Index\n",
    "\n",
    "Use `loc[index]`. This gets the row at that position."
   ]
  },
  {
   "cell_type": "code",
   "execution_count": 38,
   "id": "3db1870c",
   "metadata": {},
   "outputs": [
    {
     "data": {
      "text/plain": [
       "Name                Hannan\n",
       "Age                     22\n",
       "Rating                   5\n",
       "Favourite Food    Shawarma\n",
       "Name: 4, dtype: object"
      ]
     },
     "execution_count": 38,
     "metadata": {},
     "output_type": "execute_result"
    }
   ],
   "source": [
    "people.loc[4]"
   ]
  },
  {
   "cell_type": "markdown",
   "id": "d670030f",
   "metadata": {},
   "source": [
    "You can also use `iloc[index]` to get the row at exactly that index. Even if the indices are not in order or some are skipped."
   ]
  },
  {
   "cell_type": "code",
   "execution_count": 39,
   "id": "69803672",
   "metadata": {},
   "outputs": [
    {
     "data": {
      "text/plain": [
       "Name                  Liz\n",
       "Age                    18\n",
       "Rating                  4\n",
       "Favourite Food    Chicken\n",
       "Name: 3, dtype: object"
      ]
     },
     "execution_count": 39,
     "metadata": {},
     "output_type": "execute_result"
    }
   ],
   "source": [
    "people.iloc[3]"
   ]
  },
  {
   "cell_type": "markdown",
   "id": "99c56742",
   "metadata": {},
   "source": [
    "You can use slicing with the 2 attributes"
   ]
  },
  {
   "cell_type": "code",
   "execution_count": 46,
   "id": "2b42790b",
   "metadata": {},
   "outputs": [
    {
     "data": {
      "text/html": [
       "<div>\n",
       "<style scoped>\n",
       "    .dataframe tbody tr th:only-of-type {\n",
       "        vertical-align: middle;\n",
       "    }\n",
       "\n",
       "    .dataframe tbody tr th {\n",
       "        vertical-align: top;\n",
       "    }\n",
       "\n",
       "    .dataframe thead th {\n",
       "        text-align: right;\n",
       "    }\n",
       "</style>\n",
       "<table border=\"1\" class=\"dataframe\">\n",
       "  <thead>\n",
       "    <tr style=\"text-align: right;\">\n",
       "      <th></th>\n",
       "      <th>Name</th>\n",
       "      <th>Age</th>\n",
       "      <th>Rating</th>\n",
       "      <th>Favourite Food</th>\n",
       "    </tr>\n",
       "  </thead>\n",
       "  <tbody>\n",
       "    <tr>\n",
       "      <th>0</th>\n",
       "      <td>Jane</td>\n",
       "      <td>22</td>\n",
       "      <td>2</td>\n",
       "      <td>Apples</td>\n",
       "    </tr>\n",
       "    <tr>\n",
       "      <th>1</th>\n",
       "      <td>Tracy</td>\n",
       "      <td>19</td>\n",
       "      <td>3</td>\n",
       "      <td>Bananas</td>\n",
       "    </tr>\n",
       "    <tr>\n",
       "      <th>2</th>\n",
       "      <td>John</td>\n",
       "      <td>34</td>\n",
       "      <td>1</td>\n",
       "      <td>Salad</td>\n",
       "    </tr>\n",
       "    <tr>\n",
       "      <th>3</th>\n",
       "      <td>Liz</td>\n",
       "      <td>18</td>\n",
       "      <td>4</td>\n",
       "      <td>Chicken</td>\n",
       "    </tr>\n",
       "  </tbody>\n",
       "</table>\n",
       "</div>"
      ],
      "text/plain": [
       "    Name  Age  Rating Favourite Food\n",
       "0   Jane   22       2         Apples\n",
       "1  Tracy   19       3        Bananas\n",
       "2   John   34       1          Salad\n",
       "3    Liz   18       4        Chicken"
      ]
     },
     "execution_count": 46,
     "metadata": {},
     "output_type": "execute_result"
    }
   ],
   "source": [
    "people.loc[:3]"
   ]
  },
  {
   "cell_type": "code",
   "execution_count": 45,
   "id": "3710c73e",
   "metadata": {},
   "outputs": [
    {
     "data": {
      "text/html": [
       "<div>\n",
       "<style scoped>\n",
       "    .dataframe tbody tr th:only-of-type {\n",
       "        vertical-align: middle;\n",
       "    }\n",
       "\n",
       "    .dataframe tbody tr th {\n",
       "        vertical-align: top;\n",
       "    }\n",
       "\n",
       "    .dataframe thead th {\n",
       "        text-align: right;\n",
       "    }\n",
       "</style>\n",
       "<table border=\"1\" class=\"dataframe\">\n",
       "  <thead>\n",
       "    <tr style=\"text-align: right;\">\n",
       "      <th></th>\n",
       "      <th>Name</th>\n",
       "      <th>Age</th>\n",
       "      <th>Rating</th>\n",
       "      <th>Favourite Food</th>\n",
       "    </tr>\n",
       "  </thead>\n",
       "  <tbody>\n",
       "    <tr>\n",
       "      <th>0</th>\n",
       "      <td>Jane</td>\n",
       "      <td>22</td>\n",
       "      <td>2</td>\n",
       "      <td>Apples</td>\n",
       "    </tr>\n",
       "    <tr>\n",
       "      <th>1</th>\n",
       "      <td>Tracy</td>\n",
       "      <td>19</td>\n",
       "      <td>3</td>\n",
       "      <td>Bananas</td>\n",
       "    </tr>\n",
       "    <tr>\n",
       "      <th>2</th>\n",
       "      <td>John</td>\n",
       "      <td>34</td>\n",
       "      <td>1</td>\n",
       "      <td>Salad</td>\n",
       "    </tr>\n",
       "  </tbody>\n",
       "</table>\n",
       "</div>"
      ],
      "text/plain": [
       "    Name  Age  Rating Favourite Food\n",
       "0   Jane   22       2         Apples\n",
       "1  Tracy   19       3        Bananas\n",
       "2   John   34       1          Salad"
      ]
     },
     "execution_count": 45,
     "metadata": {},
     "output_type": "execute_result"
    }
   ],
   "source": [
    "people.iloc[:3]"
   ]
  },
  {
   "cell_type": "markdown",
   "id": "345c8baf",
   "metadata": {},
   "source": [
    "#### Boolean Indexing\n",
    "\n",
    "This is passing a condition to the index location of reading a df"
   ]
  },
  {
   "cell_type": "code",
   "execution_count": 47,
   "id": "c1d10d7d",
   "metadata": {},
   "outputs": [
    {
     "data": {
      "text/html": [
       "<div>\n",
       "<style scoped>\n",
       "    .dataframe tbody tr th:only-of-type {\n",
       "        vertical-align: middle;\n",
       "    }\n",
       "\n",
       "    .dataframe tbody tr th {\n",
       "        vertical-align: top;\n",
       "    }\n",
       "\n",
       "    .dataframe thead th {\n",
       "        text-align: right;\n",
       "    }\n",
       "</style>\n",
       "<table border=\"1\" class=\"dataframe\">\n",
       "  <thead>\n",
       "    <tr style=\"text-align: right;\">\n",
       "      <th></th>\n",
       "      <th>Name</th>\n",
       "      <th>Age</th>\n",
       "      <th>Rating</th>\n",
       "      <th>Favourite Food</th>\n",
       "    </tr>\n",
       "  </thead>\n",
       "  <tbody>\n",
       "    <tr>\n",
       "      <th>3</th>\n",
       "      <td>Liz</td>\n",
       "      <td>18</td>\n",
       "      <td>4</td>\n",
       "      <td>Chicken</td>\n",
       "    </tr>\n",
       "    <tr>\n",
       "      <th>4</th>\n",
       "      <td>Hannan</td>\n",
       "      <td>22</td>\n",
       "      <td>5</td>\n",
       "      <td>Shawarma</td>\n",
       "    </tr>\n",
       "    <tr>\n",
       "      <th>5</th>\n",
       "      <td>Hassan</td>\n",
       "      <td>22</td>\n",
       "      <td>4</td>\n",
       "      <td>Berries</td>\n",
       "    </tr>\n",
       "    <tr>\n",
       "      <th>6</th>\n",
       "      <td>Joyce</td>\n",
       "      <td>25</td>\n",
       "      <td>4</td>\n",
       "      <td>Pizza</td>\n",
       "    </tr>\n",
       "  </tbody>\n",
       "</table>\n",
       "</div>"
      ],
      "text/plain": [
       "     Name  Age  Rating Favourite Food\n",
       "3     Liz   18       4        Chicken\n",
       "4  Hannan   22       5       Shawarma\n",
       "5  Hassan   22       4        Berries\n",
       "6   Joyce   25       4          Pizza"
      ]
     },
     "execution_count": 47,
     "metadata": {},
     "output_type": "execute_result"
    }
   ],
   "source": [
    "people[people.Rating > 3]"
   ]
  },
  {
   "cell_type": "code",
   "execution_count": null,
   "id": "d137fba3",
   "metadata": {},
   "outputs": [],
   "source": []
  }
 ],
 "metadata": {
  "kernelspec": {
   "display_name": "Python 3 (ipykernel)",
   "language": "python",
   "name": "python3"
  },
  "language_info": {
   "codemirror_mode": {
    "name": "ipython",
    "version": 3
   },
   "file_extension": ".py",
   "mimetype": "text/x-python",
   "name": "python",
   "nbconvert_exporter": "python",
   "pygments_lexer": "ipython3",
   "version": "3.10.13"
  }
 },
 "nbformat": 4,
 "nbformat_minor": 5
}
