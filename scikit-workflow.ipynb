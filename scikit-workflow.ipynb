{
 "cells": [
  {
   "cell_type": "code",
   "execution_count": 2,
   "id": "5200b32e",
   "metadata": {},
   "outputs": [],
   "source": [
    "import matplotlib.pyplot as plt\n",
    "import pandas as pd\n",
    "import numpy as np"
   ]
  },
  {
   "cell_type": "markdown",
   "id": "288906ae",
   "metadata": {},
   "source": [
    "## 1. Preparing Data to be Used in Machine learning\n",
    "\n",
    "This may involve a few steps:\n",
    "    1. Split data into `features` & `labels` - `X` and `Y`.\n",
    "    2. Filling (`imputing`) or disregard missing values.\n",
    "    3. converting non-numerical to numerical values (`feature encoding`)"
   ]
  },
  {
   "cell_type": "markdown",
   "id": "5fa6b23d",
   "metadata": {},
   "source": [
    "### Separate the data into Questions & Answers\n",
    "\n",
    "In this case, the question data will be all info about the heart desease diagnostics and the answer will be the `target` column which tells whether or not the patient is sick."
   ]
  },
  {
   "cell_type": "code",
   "execution_count": 9,
   "id": "0dcb0809",
   "metadata": {},
   "outputs": [],
   "source": [
    "heart_desease = pd.read_csv('data/heart_desease.csv')\n",
    "x = heart_desease.drop('target', axis=1)\n",
    "y = heart_desease['target']\n"
   ]
  },
  {
   "cell_type": "markdown",
   "id": "9f72cd0b",
   "metadata": {},
   "source": [
    "### Split both data Into Random Train & Test Data\n",
    "\n",
    "Here we make use of `train_test_split`. When called, it returns the x test & train data and same for y."
   ]
  },
  {
   "cell_type": "code",
   "execution_count": 12,
   "id": "60dcda9f",
   "metadata": {},
   "outputs": [],
   "source": [
    "from sklearn.model_selection import train_test_split\n",
    "\n",
    "x_train, x_test, y_train, y_test = train_test_split(x, y, test_size=0.2)"
   ]
  },
  {
   "cell_type": "code",
   "execution_count": 13,
   "id": "aa385bbb",
   "metadata": {},
   "outputs": [
    {
     "data": {
      "text/plain": [
       "((242, 13), (61, 13), (242,), (61,))"
      ]
     },
     "execution_count": 13,
     "metadata": {},
     "output_type": "execute_result"
    }
   ],
   "source": [
    "x_train.shape, x_test.shape, y_train.shape, y_test.shape"
   ]
  },
  {
   "cell_type": "code",
   "execution_count": null,
   "id": "3c6832b7",
   "metadata": {},
   "outputs": [],
   "source": []
  }
 ],
 "metadata": {
  "kernelspec": {
   "display_name": "Python 3 (ipykernel)",
   "language": "python",
   "name": "python3"
  },
  "language_info": {
   "codemirror_mode": {
    "name": "ipython",
    "version": 3
   },
   "file_extension": ".py",
   "mimetype": "text/x-python",
   "name": "python",
   "nbconvert_exporter": "python",
   "pygments_lexer": "ipython3",
   "version": "3.10.13"
  }
 },
 "nbformat": 4,
 "nbformat_minor": 5
}
