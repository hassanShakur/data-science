{
 "cells": [
  {
   "cell_type": "code",
   "execution_count": 1,
   "id": "64a06b3a",
   "metadata": {},
   "outputs": [],
   "source": [
    "import numpy as np"
   ]
  },
  {
   "cell_type": "markdown",
   "id": "53c80334",
   "metadata": {},
   "source": [
    "# Numpy, DataTypes & Attributes"
   ]
  },
  {
   "cell_type": "markdown",
   "id": "b8123952",
   "metadata": {},
   "source": [
    "Main datatype is `ndarray` for n-dimensional array."
   ]
  },
  {
   "cell_type": "code",
   "execution_count": 4,
   "id": "71d3ba5f",
   "metadata": {},
   "outputs": [
    {
     "data": {
      "text/plain": [
       "array([[1, 2, 3],\n",
       "       [4, 5, 6]])"
      ]
     },
     "execution_count": 4,
     "metadata": {},
     "output_type": "execute_result"
    }
   ],
   "source": [
    "# 1D\n",
    "a1 = np.array([1, 2, 3])\n",
    "# 2D\n",
    "a2 = np.array([[1, 2, 3], [4, 5, 6]])\n",
    "a2"
   ]
  },
  {
   "cell_type": "code",
   "execution_count": 5,
   "id": "b1ddfce5",
   "metadata": {},
   "outputs": [
    {
     "data": {
      "text/plain": [
       "(2, 3)"
      ]
     },
     "execution_count": 5,
     "metadata": {},
     "output_type": "execute_result"
    }
   ],
   "source": [
    "# Rows, cols\n",
    "a2.shape"
   ]
  },
  {
   "cell_type": "markdown",
   "id": "e18df273",
   "metadata": {},
   "source": [
    "You can view number of dimensions through: `arr.ndim`"
   ]
  },
  {
   "cell_type": "code",
   "execution_count": 6,
   "id": "1978782e",
   "metadata": {},
   "outputs": [
    {
     "data": {
      "text/plain": [
       "(1, 2)"
      ]
     },
     "execution_count": 6,
     "metadata": {},
     "output_type": "execute_result"
    }
   ],
   "source": [
    "a1.ndim, a2.ndim"
   ]
  },
  {
   "cell_type": "code",
   "execution_count": null,
   "id": "9bbb1345",
   "metadata": {},
   "outputs": [],
   "source": []
  }
 ],
 "metadata": {
  "kernelspec": {
   "display_name": "Python 3 (ipykernel)",
   "language": "python",
   "name": "python3"
  },
  "language_info": {
   "codemirror_mode": {
    "name": "ipython",
    "version": 3
   },
   "file_extension": ".py",
   "mimetype": "text/x-python",
   "name": "python",
   "nbconvert_exporter": "python",
   "pygments_lexer": "ipython3",
   "version": "3.10.13"
  }
 },
 "nbformat": 4,
 "nbformat_minor": 5
}
