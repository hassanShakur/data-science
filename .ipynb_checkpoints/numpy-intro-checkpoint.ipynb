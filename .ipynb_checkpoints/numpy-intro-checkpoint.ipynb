{
 "cells": [
  {
   "cell_type": "code",
   "execution_count": 1,
   "id": "5e2152ff",
   "metadata": {},
   "outputs": [],
   "source": [
    "import numpy as np"
   ]
  },
  {
   "cell_type": "markdown",
   "id": "cc70bba2",
   "metadata": {},
   "source": [
    "# Numpy, DataTypes & Attributes"
   ]
  },
  {
   "cell_type": "markdown",
   "id": "c52a2fa9",
   "metadata": {},
   "source": [
    "Main datatype is `ndarray` for n-dimensional array."
   ]
  },
  {
   "cell_type": "code",
   "execution_count": 2,
   "id": "389399da",
   "metadata": {},
   "outputs": [
    {
     "data": {
      "text/plain": [
       "array([[1, 2, 3],\n",
       "       [4, 5, 6]])"
      ]
     },
     "execution_count": 2,
     "metadata": {},
     "output_type": "execute_result"
    }
   ],
   "source": [
    "# 1D\n",
    "a1 = np.array([1, 2, 3])\n",
    "# 2D\n",
    "a2 = np.array([[1, 2, 3], [4, 5, 6]])\n",
    "a2"
   ]
  },
  {
   "cell_type": "code",
   "execution_count": 3,
   "id": "f7c03ac7",
   "metadata": {},
   "outputs": [
    {
     "data": {
      "text/plain": [
       "(2, 3)"
      ]
     },
     "execution_count": 3,
     "metadata": {},
     "output_type": "execute_result"
    }
   ],
   "source": [
    "# Rows, cols\n",
    "a2.shape"
   ]
  },
  {
   "cell_type": "markdown",
   "id": "9d1b026c",
   "metadata": {},
   "source": [
    "You can view number of dimensions through: `arr.ndim`"
   ]
  },
  {
   "cell_type": "code",
   "execution_count": 4,
   "id": "39106636",
   "metadata": {},
   "outputs": [
    {
     "data": {
      "text/plain": [
       "(1, 2)"
      ]
     },
     "execution_count": 4,
     "metadata": {},
     "output_type": "execute_result"
    }
   ],
   "source": [
    "a1.ndim, a2.ndim"
   ]
  },
  {
   "cell_type": "code",
   "execution_count": 5,
   "id": "bab942d9",
   "metadata": {},
   "outputs": [
    {
     "data": {
      "text/plain": [
       "6"
      ]
     },
     "execution_count": 5,
     "metadata": {},
     "output_type": "execute_result"
    }
   ],
   "source": [
    "# Number of elements\n",
    "a2.size"
   ]
  },
  {
   "cell_type": "code",
   "execution_count": 6,
   "id": "03840fa7",
   "metadata": {},
   "outputs": [
    {
     "data": {
      "text/plain": [
       "numpy.ndarray"
      ]
     },
     "execution_count": 6,
     "metadata": {},
     "output_type": "execute_result"
    }
   ],
   "source": [
    "type(a1)"
   ]
  },
  {
   "cell_type": "markdown",
   "id": "00de9e38",
   "metadata": {},
   "source": [
    "### Create df from ndarray"
   ]
  },
  {
   "cell_type": "code",
   "execution_count": 7,
   "id": "c8778785",
   "metadata": {},
   "outputs": [
    {
     "data": {
      "text/html": [
       "<div>\n",
       "<style scoped>\n",
       "    .dataframe tbody tr th:only-of-type {\n",
       "        vertical-align: middle;\n",
       "    }\n",
       "\n",
       "    .dataframe tbody tr th {\n",
       "        vertical-align: top;\n",
       "    }\n",
       "\n",
       "    .dataframe thead th {\n",
       "        text-align: right;\n",
       "    }\n",
       "</style>\n",
       "<table border=\"1\" class=\"dataframe\">\n",
       "  <thead>\n",
       "    <tr style=\"text-align: right;\">\n",
       "      <th></th>\n",
       "      <th>0</th>\n",
       "      <th>1</th>\n",
       "      <th>2</th>\n",
       "    </tr>\n",
       "  </thead>\n",
       "  <tbody>\n",
       "    <tr>\n",
       "      <th>0</th>\n",
       "      <td>1</td>\n",
       "      <td>2</td>\n",
       "      <td>3</td>\n",
       "    </tr>\n",
       "    <tr>\n",
       "      <th>1</th>\n",
       "      <td>4</td>\n",
       "      <td>5</td>\n",
       "      <td>6</td>\n",
       "    </tr>\n",
       "  </tbody>\n",
       "</table>\n",
       "</div>"
      ],
      "text/plain": [
       "   0  1  2\n",
       "0  1  2  3\n",
       "1  4  5  6"
      ]
     },
     "execution_count": 7,
     "metadata": {},
     "output_type": "execute_result"
    }
   ],
   "source": [
    "import pandas as pd\n",
    "df = pd.DataFrame(a2)\n",
    "df"
   ]
  },
  {
   "cell_type": "markdown",
   "id": "62eca5d1",
   "metadata": {},
   "source": [
    "## Creating np arrays"
   ]
  },
  {
   "cell_type": "code",
   "execution_count": 8,
   "id": "53939b92",
   "metadata": {},
   "outputs": [
    {
     "data": {
      "text/plain": [
       "array([[1., 1., 1.],\n",
       "       [1., 1., 1.],\n",
       "       [1., 1., 1.]])"
      ]
     },
     "execution_count": 8,
     "metadata": {},
     "output_type": "execute_result"
    }
   ],
   "source": [
    "ones = np.ones((3, 3))\n",
    "ones"
   ]
  },
  {
   "cell_type": "code",
   "execution_count": 9,
   "id": "661f75a1",
   "metadata": {},
   "outputs": [
    {
     "data": {
      "text/plain": [
       "array([1, 3, 5, 7, 9])"
      ]
     },
     "execution_count": 9,
     "metadata": {},
     "output_type": "execute_result"
    }
   ],
   "source": [
    "range_arr = np.arange(1, 10, 2)\n",
    "range_arr"
   ]
  },
  {
   "cell_type": "code",
   "execution_count": 10,
   "id": "e47e2a58",
   "metadata": {},
   "outputs": [
    {
     "data": {
      "text/plain": [
       "array([[4, 9, 6, 1, 2],\n",
       "       [7, 1, 9, 2, 7],\n",
       "       [6, 1, 2, 3, 6],\n",
       "       [2, 3, 7, 2, 3]])"
      ]
     },
     "execution_count": 10,
     "metadata": {},
     "output_type": "execute_result"
    }
   ],
   "source": [
    "rand_nd_arr = np.random.randint(1, 10, (4, 5))\n",
    "rand_nd_arr"
   ]
  },
  {
   "cell_type": "code",
   "execution_count": 11,
   "id": "8b3cee5c",
   "metadata": {},
   "outputs": [
    {
     "data": {
      "text/plain": [
       "array([[0.08941689, 0.9534904 , 0.84267458, 0.32701926],\n",
       "       [0.55329855, 0.02042933, 0.89785377, 0.96808942],\n",
       "       [0.58113454, 0.88115092, 0.40582285, 0.11828997]])"
      ]
     },
     "execution_count": 11,
     "metadata": {},
     "output_type": "execute_result"
    }
   ],
   "source": [
    "rand_nd_arr2 = np.random.random((3, 4))\n",
    "rand_nd_arr2"
   ]
  },
  {
   "cell_type": "code",
   "execution_count": 12,
   "id": "3d77467e",
   "metadata": {},
   "outputs": [
    {
     "data": {
      "text/plain": [
       "array([[0.58863258, 0.5657926 , 0.61985598, 0.08110073],\n",
       "       [0.89611302, 0.07028457, 0.70461984, 0.53303094],\n",
       "       [0.01084955, 0.73740651, 0.34842513, 0.35155185]])"
      ]
     },
     "execution_count": 12,
     "metadata": {},
     "output_type": "execute_result"
    }
   ],
   "source": [
    "rand_nd_arr3 = np.random.rand(3, 4)\n",
    "rand_nd_arr3"
   ]
  },
  {
   "cell_type": "markdown",
   "id": "6854dd16",
   "metadata": {},
   "source": [
    "## Random Seed"
   ]
  },
  {
   "cell_type": "markdown",
   "id": "b7ef7f59",
   "metadata": {},
   "source": [
    "Creates random numbers that are reproduceable"
   ]
  },
  {
   "cell_type": "code",
   "execution_count": 13,
   "id": "6c86b62e",
   "metadata": {},
   "outputs": [
    {
     "data": {
      "text/plain": [
       "array([[0.54329109, 0.72895073, 0.01688145],\n",
       "       [0.3303388 , 0.36872182, 0.04830367],\n",
       "       [0.10453019, 0.09743752, 0.24540331]])"
      ]
     },
     "execution_count": 13,
     "metadata": {},
     "output_type": "execute_result"
    }
   ],
   "source": [
    "np.random.seed(seed=333)\n",
    "rand_seed_arr = np.random.rand(3, 3)\n",
    "rand_seed_arr"
   ]
  },
  {
   "cell_type": "markdown",
   "id": "cb7b9907",
   "metadata": {},
   "source": [
    "### Array Slicing"
   ]
  },
  {
   "cell_type": "code",
   "execution_count": 14,
   "id": "f33e3689",
   "metadata": {},
   "outputs": [
    {
     "data": {
      "text/plain": [
       "array([[[[13,  5, 10,  8, 13],\n",
       "         [ 6,  6,  9,  9,  8],\n",
       "         [11,  4,  4,  4, 10],\n",
       "         [ 4, 13, 11,  4, 12]],\n",
       "\n",
       "        [[ 8,  8,  2,  1,  9],\n",
       "         [ 3,  8,  1,  2, 11],\n",
       "         [ 1,  9,  6,  4,  4],\n",
       "         [13,  8,  6, 12,  1]],\n",
       "\n",
       "        [[ 6,  3, 13, 11,  9],\n",
       "         [ 5,  5, 10, 12, 13],\n",
       "         [ 7, 13,  7,  5,  2],\n",
       "         [13,  2,  1, 13, 10]]],\n",
       "\n",
       "\n",
       "       [[[12,  4, 12,  8,  4],\n",
       "         [13, 11,  3,  5,  9],\n",
       "         [13, 13, 11,  3,  6],\n",
       "         [ 9,  1,  7,  6, 11]],\n",
       "\n",
       "        [[ 4,  8,  1,  8, 11],\n",
       "         [ 1,  2,  9, 13,  2],\n",
       "         [ 4, 11,  5,  7,  9],\n",
       "         [ 6,  8,  8,  2,  2]],\n",
       "\n",
       "        [[ 6,  4,  4,  5,  8],\n",
       "         [ 8, 11,  6, 11,  3],\n",
       "         [ 3,  5, 10,  5,  8],\n",
       "         [13,  9,  4,  8,  7]]]])"
      ]
     },
     "execution_count": 14,
     "metadata": {},
     "output_type": "execute_result"
    }
   ],
   "source": [
    "rand_array = np.random.randint(1, 14, (2, 3, 4, 5))\n",
    "rand_array"
   ]
  },
  {
   "cell_type": "code",
   "execution_count": 15,
   "id": "4c67d1ef",
   "metadata": {},
   "outputs": [
    {
     "data": {
      "text/plain": [
       "(2, 3, 4, 5)"
      ]
     },
     "execution_count": 15,
     "metadata": {},
     "output_type": "execute_result"
    }
   ],
   "source": [
    "# Get the first 2 els of the deepest arrays\n",
    "rand_array.shape"
   ]
  },
  {
   "cell_type": "code",
   "execution_count": 16,
   "id": "b810cd6f",
   "metadata": {},
   "outputs": [
    {
     "data": {
      "text/plain": [
       "array([[[[13,  5],\n",
       "         [ 6,  6],\n",
       "         [11,  4],\n",
       "         [ 4, 13]],\n",
       "\n",
       "        [[ 8,  8],\n",
       "         [ 3,  8],\n",
       "         [ 1,  9],\n",
       "         [13,  8]],\n",
       "\n",
       "        [[ 6,  3],\n",
       "         [ 5,  5],\n",
       "         [ 7, 13],\n",
       "         [13,  2]]],\n",
       "\n",
       "\n",
       "       [[[12,  4],\n",
       "         [13, 11],\n",
       "         [13, 13],\n",
       "         [ 9,  1]],\n",
       "\n",
       "        [[ 4,  8],\n",
       "         [ 1,  2],\n",
       "         [ 4, 11],\n",
       "         [ 6,  8]],\n",
       "\n",
       "        [[ 6,  4],\n",
       "         [ 8, 11],\n",
       "         [ 3,  5],\n",
       "         [13,  9]]]])"
      ]
     },
     "execution_count": 16,
     "metadata": {},
     "output_type": "execute_result"
    }
   ],
   "source": [
    "rand_array[:, :, :, :2]"
   ]
  },
  {
   "cell_type": "markdown",
   "id": "65946b7f",
   "metadata": {},
   "source": [
    "## Aggregation\n",
    "\n",
    "Involves performing the same operation on a number of things."
   ]
  },
  {
   "cell_type": "markdown",
   "id": "6676f824",
   "metadata": {},
   "source": [
    "Comparing the `sum()` for `np` and `py`"
   ]
  },
  {
   "cell_type": "code",
   "execution_count": 17,
   "id": "8699269f",
   "metadata": {},
   "outputs": [
    {
     "name": "stdout",
     "output_type": "stream",
     "text": [
      "82.7 µs ± 1.65 µs per loop (mean ± std. dev. of 7 runs, 10,000 loops each)\n",
      "4.33 µs ± 184 ns per loop (mean ± std. dev. of 7 runs, 100,000 loops each)\n"
     ]
    }
   ],
   "source": [
    "big_arr = np.random.random(1000)\n",
    "%timeit sum(big_arr)\n",
    "%timeit np.sum(big_arr)"
   ]
  },
  {
   "cell_type": "code",
   "execution_count": 18,
   "id": "449360b6",
   "metadata": {},
   "outputs": [
    {
     "data": {
      "text/plain": [
       "array([[1, 2, 3],\n",
       "       [4, 5, 6]])"
      ]
     },
     "execution_count": 18,
     "metadata": {},
     "output_type": "execute_result"
    }
   ],
   "source": [
    "a2"
   ]
  },
  {
   "cell_type": "code",
   "execution_count": 19,
   "id": "398cb769",
   "metadata": {},
   "outputs": [
    {
     "data": {
      "text/plain": [
       "3.5"
      ]
     },
     "execution_count": 19,
     "metadata": {},
     "output_type": "execute_result"
    }
   ],
   "source": [
    "np.mean(a2)"
   ]
  },
  {
   "cell_type": "code",
   "execution_count": 21,
   "id": "84dc9a8e",
   "metadata": {},
   "outputs": [
    {
     "data": {
      "text/plain": [
       "1.707825127659933"
      ]
     },
     "execution_count": 21,
     "metadata": {},
     "output_type": "execute_result"
    }
   ],
   "source": [
    "# Standard deviation - How spread out nums are from the mean => sqrt(variance)\n",
    "np.std(a2)"
   ]
  },
  {
   "cell_type": "code",
   "execution_count": 22,
   "id": "fe90f50c",
   "metadata": {},
   "outputs": [
    {
     "data": {
      "text/plain": [
       "2.9166666666666665"
      ]
     },
     "execution_count": 22,
     "metadata": {},
     "output_type": "execute_result"
    }
   ],
   "source": [
    "# Variance - Range of each num from the mean\n",
    "np.var(a2)"
   ]
  },
  {
   "cell_type": "markdown",
   "id": "a613b504",
   "metadata": {},
   "source": [
    "## Reshape & Transpose\n",
    "\n",
    "Reshape chages the shape & dimensions of an array while transpose flips the axes of the matrix."
   ]
  },
  {
   "cell_type": "code",
   "execution_count": 24,
   "id": "cf25515f",
   "metadata": {},
   "outputs": [
    {
     "data": {
      "text/plain": [
       "(array([[1, 2, 3],\n",
       "        [4, 5, 6]]),\n",
       " (2, 3))"
      ]
     },
     "execution_count": 24,
     "metadata": {},
     "output_type": "execute_result"
    }
   ],
   "source": [
    "a2, a2.shape"
   ]
  },
  {
   "cell_type": "code",
   "execution_count": 25,
   "id": "e2e99874",
   "metadata": {},
   "outputs": [
    {
     "data": {
      "text/plain": [
       "array([[[1],\n",
       "        [2],\n",
       "        [3]],\n",
       "\n",
       "       [[4],\n",
       "        [5],\n",
       "        [6]]])"
      ]
     },
     "execution_count": 25,
     "metadata": {},
     "output_type": "execute_result"
    }
   ],
   "source": [
    "a2_reshaped = a2.reshape(2, 3, 1)\n",
    "a2_reshaped"
   ]
  },
  {
   "cell_type": "code",
   "execution_count": 26,
   "id": "aa3e707e",
   "metadata": {},
   "outputs": [
    {
     "data": {
      "text/plain": [
       "array([[1, 4],\n",
       "       [2, 5],\n",
       "       [3, 6]])"
      ]
     },
     "execution_count": 26,
     "metadata": {},
     "output_type": "execute_result"
    }
   ],
   "source": [
    "a2_trans = a2.T\n",
    "a2_trans"
   ]
  },
  {
   "cell_type": "code",
   "execution_count": null,
   "id": "78cf3978",
   "metadata": {},
   "outputs": [],
   "source": []
  }
 ],
 "metadata": {
  "kernelspec": {
   "display_name": "Python 3 (ipykernel)",
   "language": "python",
   "name": "python3"
  },
  "language_info": {
   "codemirror_mode": {
    "name": "ipython",
    "version": 3
   },
   "file_extension": ".py",
   "mimetype": "text/x-python",
   "name": "python",
   "nbconvert_exporter": "python",
   "pygments_lexer": "ipython3",
   "version": "3.10.13"
  }
 },
 "nbformat": 4,
 "nbformat_minor": 5
}
