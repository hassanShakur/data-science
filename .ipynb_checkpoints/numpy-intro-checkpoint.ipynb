{
 "cells": [
  {
   "cell_type": "code",
   "execution_count": 1,
   "id": "5e2152ff",
   "metadata": {},
   "outputs": [],
   "source": [
    "import numpy as np"
   ]
  },
  {
   "cell_type": "markdown",
   "id": "cc70bba2",
   "metadata": {},
   "source": [
    "# Numpy, DataTypes & Attributes"
   ]
  },
  {
   "cell_type": "markdown",
   "id": "c52a2fa9",
   "metadata": {},
   "source": [
    "Main datatype is `ndarray` for n-dimensional array."
   ]
  },
  {
   "cell_type": "code",
   "execution_count": 2,
   "id": "389399da",
   "metadata": {},
   "outputs": [
    {
     "data": {
      "text/plain": [
       "array([[1, 2, 3],\n",
       "       [4, 5, 6]])"
      ]
     },
     "execution_count": 2,
     "metadata": {},
     "output_type": "execute_result"
    }
   ],
   "source": [
    "# 1D\n",
    "a1 = np.array([1, 2, 3])\n",
    "# 2D\n",
    "a2 = np.array([[1, 2, 3], [4, 5, 6]])\n",
    "a2"
   ]
  },
  {
   "cell_type": "code",
   "execution_count": 3,
   "id": "f7c03ac7",
   "metadata": {},
   "outputs": [
    {
     "data": {
      "text/plain": [
       "(2, 3)"
      ]
     },
     "execution_count": 3,
     "metadata": {},
     "output_type": "execute_result"
    }
   ],
   "source": [
    "# Rows, cols\n",
    "a2.shape"
   ]
  },
  {
   "cell_type": "markdown",
   "id": "9d1b026c",
   "metadata": {},
   "source": [
    "You can view number of dimensions through: `arr.ndim`"
   ]
  },
  {
   "cell_type": "code",
   "execution_count": 4,
   "id": "39106636",
   "metadata": {},
   "outputs": [
    {
     "data": {
      "text/plain": [
       "(1, 2)"
      ]
     },
     "execution_count": 4,
     "metadata": {},
     "output_type": "execute_result"
    }
   ],
   "source": [
    "a1.ndim, a2.ndim"
   ]
  },
  {
   "cell_type": "code",
   "execution_count": 5,
   "id": "bab942d9",
   "metadata": {},
   "outputs": [
    {
     "data": {
      "text/plain": [
       "6"
      ]
     },
     "execution_count": 5,
     "metadata": {},
     "output_type": "execute_result"
    }
   ],
   "source": [
    "# Number of elements\n",
    "a2.size"
   ]
  },
  {
   "cell_type": "code",
   "execution_count": 6,
   "id": "03840fa7",
   "metadata": {},
   "outputs": [
    {
     "data": {
      "text/plain": [
       "numpy.ndarray"
      ]
     },
     "execution_count": 6,
     "metadata": {},
     "output_type": "execute_result"
    }
   ],
   "source": [
    "type(a1)"
   ]
  },
  {
   "cell_type": "markdown",
   "id": "00de9e38",
   "metadata": {},
   "source": [
    "### Create df from ndarray"
   ]
  },
  {
   "cell_type": "code",
   "execution_count": 7,
   "id": "c8778785",
   "metadata": {},
   "outputs": [
    {
     "data": {
      "text/html": [
       "<div>\n",
       "<style scoped>\n",
       "    .dataframe tbody tr th:only-of-type {\n",
       "        vertical-align: middle;\n",
       "    }\n",
       "\n",
       "    .dataframe tbody tr th {\n",
       "        vertical-align: top;\n",
       "    }\n",
       "\n",
       "    .dataframe thead th {\n",
       "        text-align: right;\n",
       "    }\n",
       "</style>\n",
       "<table border=\"1\" class=\"dataframe\">\n",
       "  <thead>\n",
       "    <tr style=\"text-align: right;\">\n",
       "      <th></th>\n",
       "      <th>0</th>\n",
       "      <th>1</th>\n",
       "      <th>2</th>\n",
       "    </tr>\n",
       "  </thead>\n",
       "  <tbody>\n",
       "    <tr>\n",
       "      <th>0</th>\n",
       "      <td>1</td>\n",
       "      <td>2</td>\n",
       "      <td>3</td>\n",
       "    </tr>\n",
       "    <tr>\n",
       "      <th>1</th>\n",
       "      <td>4</td>\n",
       "      <td>5</td>\n",
       "      <td>6</td>\n",
       "    </tr>\n",
       "  </tbody>\n",
       "</table>\n",
       "</div>"
      ],
      "text/plain": [
       "   0  1  2\n",
       "0  1  2  3\n",
       "1  4  5  6"
      ]
     },
     "execution_count": 7,
     "metadata": {},
     "output_type": "execute_result"
    }
   ],
   "source": [
    "import pandas as pd\n",
    "df = pd.DataFrame(a2)\n",
    "df"
   ]
  },
  {
   "cell_type": "markdown",
   "id": "62eca5d1",
   "metadata": {},
   "source": [
    "## Creating np arrays"
   ]
  },
  {
   "cell_type": "code",
   "execution_count": 8,
   "id": "53939b92",
   "metadata": {},
   "outputs": [
    {
     "data": {
      "text/plain": [
       "array([[1., 1., 1.],\n",
       "       [1., 1., 1.],\n",
       "       [1., 1., 1.]])"
      ]
     },
     "execution_count": 8,
     "metadata": {},
     "output_type": "execute_result"
    }
   ],
   "source": [
    "ones = np.ones((3, 3))\n",
    "ones"
   ]
  },
  {
   "cell_type": "code",
   "execution_count": 9,
   "id": "661f75a1",
   "metadata": {},
   "outputs": [
    {
     "data": {
      "text/plain": [
       "array([1, 3, 5, 7, 9])"
      ]
     },
     "execution_count": 9,
     "metadata": {},
     "output_type": "execute_result"
    }
   ],
   "source": [
    "range_arr = np.arange(1, 10, 2)\n",
    "range_arr"
   ]
  },
  {
   "cell_type": "code",
   "execution_count": 10,
   "id": "e47e2a58",
   "metadata": {},
   "outputs": [
    {
     "data": {
      "text/plain": [
       "array([[4, 9, 6, 1, 2],\n",
       "       [7, 1, 9, 2, 7],\n",
       "       [6, 1, 2, 3, 6],\n",
       "       [2, 3, 7, 2, 3]])"
      ]
     },
     "execution_count": 10,
     "metadata": {},
     "output_type": "execute_result"
    }
   ],
   "source": [
    "rand_nd_arr = np.random.randint(1, 10, (4, 5))\n",
    "rand_nd_arr"
   ]
  },
  {
   "cell_type": "code",
   "execution_count": 11,
   "id": "8b3cee5c",
   "metadata": {},
   "outputs": [
    {
     "data": {
      "text/plain": [
       "array([[0.08941689, 0.9534904 , 0.84267458, 0.32701926],\n",
       "       [0.55329855, 0.02042933, 0.89785377, 0.96808942],\n",
       "       [0.58113454, 0.88115092, 0.40582285, 0.11828997]])"
      ]
     },
     "execution_count": 11,
     "metadata": {},
     "output_type": "execute_result"
    }
   ],
   "source": [
    "rand_nd_arr2 = np.random.random((3, 4))\n",
    "rand_nd_arr2"
   ]
  },
  {
   "cell_type": "code",
   "execution_count": 12,
   "id": "3d77467e",
   "metadata": {},
   "outputs": [
    {
     "data": {
      "text/plain": [
       "array([[0.58863258, 0.5657926 , 0.61985598, 0.08110073],\n",
       "       [0.89611302, 0.07028457, 0.70461984, 0.53303094],\n",
       "       [0.01084955, 0.73740651, 0.34842513, 0.35155185]])"
      ]
     },
     "execution_count": 12,
     "metadata": {},
     "output_type": "execute_result"
    }
   ],
   "source": [
    "rand_nd_arr3 = np.random.rand(3, 4)\n",
    "rand_nd_arr3"
   ]
  },
  {
   "cell_type": "markdown",
   "id": "6854dd16",
   "metadata": {},
   "source": [
    "## Random Seed"
   ]
  },
  {
   "cell_type": "markdown",
   "id": "b7ef7f59",
   "metadata": {},
   "source": [
    "Creates random numbers that are reproduceable"
   ]
  },
  {
   "cell_type": "code",
   "execution_count": 13,
   "id": "6c86b62e",
   "metadata": {},
   "outputs": [
    {
     "data": {
      "text/plain": [
       "array([[0.54329109, 0.72895073, 0.01688145],\n",
       "       [0.3303388 , 0.36872182, 0.04830367],\n",
       "       [0.10453019, 0.09743752, 0.24540331]])"
      ]
     },
     "execution_count": 13,
     "metadata": {},
     "output_type": "execute_result"
    }
   ],
   "source": [
    "np.random.seed(seed=333)\n",
    "rand_seed_arr = np.random.rand(3, 3)\n",
    "rand_seed_arr"
   ]
  },
  {
   "cell_type": "markdown",
   "id": "f2be4428",
   "metadata": {},
   "source": [
    "### Array Slicing"
   ]
  },
  {
   "cell_type": "code",
   "execution_count": 14,
   "id": "c5be9f59",
   "metadata": {},
   "outputs": [
    {
     "data": {
      "text/plain": [
       "array([[[[13,  5, 10,  8, 13],\n",
       "         [ 6,  6,  9,  9,  8],\n",
       "         [11,  4,  4,  4, 10],\n",
       "         [ 4, 13, 11,  4, 12]],\n",
       "\n",
       "        [[ 8,  8,  2,  1,  9],\n",
       "         [ 3,  8,  1,  2, 11],\n",
       "         [ 1,  9,  6,  4,  4],\n",
       "         [13,  8,  6, 12,  1]],\n",
       "\n",
       "        [[ 6,  3, 13, 11,  9],\n",
       "         [ 5,  5, 10, 12, 13],\n",
       "         [ 7, 13,  7,  5,  2],\n",
       "         [13,  2,  1, 13, 10]]],\n",
       "\n",
       "\n",
       "       [[[12,  4, 12,  8,  4],\n",
       "         [13, 11,  3,  5,  9],\n",
       "         [13, 13, 11,  3,  6],\n",
       "         [ 9,  1,  7,  6, 11]],\n",
       "\n",
       "        [[ 4,  8,  1,  8, 11],\n",
       "         [ 1,  2,  9, 13,  2],\n",
       "         [ 4, 11,  5,  7,  9],\n",
       "         [ 6,  8,  8,  2,  2]],\n",
       "\n",
       "        [[ 6,  4,  4,  5,  8],\n",
       "         [ 8, 11,  6, 11,  3],\n",
       "         [ 3,  5, 10,  5,  8],\n",
       "         [13,  9,  4,  8,  7]]]])"
      ]
     },
     "execution_count": 14,
     "metadata": {},
     "output_type": "execute_result"
    }
   ],
   "source": [
    "rand_array = np.random.randint(1, 14, (2, 3, 4, 5))\n",
    "rand_array"
   ]
  },
  {
   "cell_type": "code",
   "execution_count": 15,
   "id": "4c25896a",
   "metadata": {},
   "outputs": [
    {
     "data": {
      "text/plain": [
       "(2, 3, 4, 5)"
      ]
     },
     "execution_count": 15,
     "metadata": {},
     "output_type": "execute_result"
    }
   ],
   "source": [
    "# Get the first 2 els of the deepest arrays\n",
    "rand_array.shape"
   ]
  },
  {
   "cell_type": "code",
   "execution_count": 16,
   "id": "3deb52c4",
   "metadata": {},
   "outputs": [
    {
     "data": {
      "text/plain": [
       "array([[[[13,  5],\n",
       "         [ 6,  6],\n",
       "         [11,  4],\n",
       "         [ 4, 13]],\n",
       "\n",
       "        [[ 8,  8],\n",
       "         [ 3,  8],\n",
       "         [ 1,  9],\n",
       "         [13,  8]],\n",
       "\n",
       "        [[ 6,  3],\n",
       "         [ 5,  5],\n",
       "         [ 7, 13],\n",
       "         [13,  2]]],\n",
       "\n",
       "\n",
       "       [[[12,  4],\n",
       "         [13, 11],\n",
       "         [13, 13],\n",
       "         [ 9,  1]],\n",
       "\n",
       "        [[ 4,  8],\n",
       "         [ 1,  2],\n",
       "         [ 4, 11],\n",
       "         [ 6,  8]],\n",
       "\n",
       "        [[ 6,  4],\n",
       "         [ 8, 11],\n",
       "         [ 3,  5],\n",
       "         [13,  9]]]])"
      ]
     },
     "execution_count": 16,
     "metadata": {},
     "output_type": "execute_result"
    }
   ],
   "source": [
    "rand_array[:, :, :, :2]"
   ]
  },
  {
   "cell_type": "markdown",
   "id": "80f83aca",
   "metadata": {},
   "source": [
    "## Aggregation\n",
    "\n",
    "Involves performing the same operation on a number of things."
   ]
  },
  {
   "cell_type": "markdown",
   "id": "06f8d66f",
   "metadata": {},
   "source": [
    "Comparing the `sum()` for `np` and `py`"
   ]
  },
  {
   "cell_type": "code",
   "execution_count": 17,
   "id": "cfc80c7c",
   "metadata": {},
   "outputs": [
    {
     "name": "stdout",
     "output_type": "stream",
     "text": [
      "82.7 µs ± 1.65 µs per loop (mean ± std. dev. of 7 runs, 10,000 loops each)\n",
      "4.33 µs ± 184 ns per loop (mean ± std. dev. of 7 runs, 100,000 loops each)\n"
     ]
    }
   ],
   "source": [
    "big_arr = np.random.random(1000)\n",
    "%timeit sum(big_arr)\n",
    "%timeit np.sum(big_arr)"
   ]
  },
  {
   "cell_type": "code",
   "execution_count": 18,
   "id": "6354363a",
   "metadata": {},
   "outputs": [
    {
     "data": {
      "text/plain": [
       "array([[1, 2, 3],\n",
       "       [4, 5, 6]])"
      ]
     },
     "execution_count": 18,
     "metadata": {},
     "output_type": "execute_result"
    }
   ],
   "source": [
    "a2"
   ]
  },
  {
   "cell_type": "code",
   "execution_count": 19,
   "id": "bff6b31a",
   "metadata": {},
   "outputs": [
    {
     "data": {
      "text/plain": [
       "3.5"
      ]
     },
     "execution_count": 19,
     "metadata": {},
     "output_type": "execute_result"
    }
   ],
   "source": [
    "np.mean(a2)"
   ]
  },
  {
   "cell_type": "code",
   "execution_count": 21,
   "id": "85aab274",
   "metadata": {},
   "outputs": [
    {
     "data": {
      "text/plain": [
       "1.707825127659933"
      ]
     },
     "execution_count": 21,
     "metadata": {},
     "output_type": "execute_result"
    }
   ],
   "source": [
    "# Standard deviation - How spread out nums are from the mean => sqrt(variance)\n",
    "np.std(a2)"
   ]
  },
  {
   "cell_type": "code",
   "execution_count": 22,
   "id": "e0b4af8f",
   "metadata": {},
   "outputs": [
    {
     "data": {
      "text/plain": [
       "2.9166666666666665"
      ]
     },
     "execution_count": 22,
     "metadata": {},
     "output_type": "execute_result"
    }
   ],
   "source": [
    "# Variance - Range of each num from the mean\n",
    "np.var(a2)"
   ]
  },
  {
   "cell_type": "markdown",
   "id": "b05adac9",
   "metadata": {},
   "source": [
    "## Reshape & Transpose\n",
    "\n",
    "Reshape chages the shape & dimensions of an array while transpose flips the axes of the matrix."
   ]
  },
  {
   "cell_type": "code",
   "execution_count": 24,
   "id": "fd11eeb2",
   "metadata": {},
   "outputs": [
    {
     "data": {
      "text/plain": [
       "(array([[1, 2, 3],\n",
       "        [4, 5, 6]]),\n",
       " (2, 3))"
      ]
     },
     "execution_count": 24,
     "metadata": {},
     "output_type": "execute_result"
    }
   ],
   "source": [
    "a2, a2.shape"
   ]
  },
  {
   "cell_type": "code",
   "execution_count": 25,
   "id": "51d9d2f6",
   "metadata": {},
   "outputs": [
    {
     "data": {
      "text/plain": [
       "array([[[1],\n",
       "        [2],\n",
       "        [3]],\n",
       "\n",
       "       [[4],\n",
       "        [5],\n",
       "        [6]]])"
      ]
     },
     "execution_count": 25,
     "metadata": {},
     "output_type": "execute_result"
    }
   ],
   "source": [
    "a2_reshaped = a2.reshape(2, 3, 1)\n",
    "a2_reshaped"
   ]
  },
  {
   "cell_type": "code",
   "execution_count": 26,
   "id": "42ca651c",
   "metadata": {},
   "outputs": [
    {
     "data": {
      "text/plain": [
       "array([[1, 4],\n",
       "       [2, 5],\n",
       "       [3, 6]])"
      ]
     },
     "execution_count": 26,
     "metadata": {},
     "output_type": "execute_result"
    }
   ],
   "source": [
    "a2_trans = a2.T\n",
    "a2_trans"
   ]
  },
  {
   "cell_type": "markdown",
   "id": "10ce940d",
   "metadata": {},
   "source": [
    "### Dot Products\n",
    "\n",
    "Apart from `element-wise` multiplication of matrices which just multiplies corresponding items, the `dot product` multiplies matrices in a matrical manner. The matrices must be a `transpose` of ech other with respect to their dimensions for this to work.\n",
    "\n",
    "For it to work, dim nums on the inside must match: Example `(4 x 4).dot(4 x 2) = (4 x 2)`, that gives a result with dimensions of the outside."
   ]
  },
  {
   "cell_type": "markdown",
   "id": "0260bc4f",
   "metadata": {},
   "source": [
    "## Sorting Arrays"
   ]
  },
  {
   "cell_type": "code",
   "execution_count": 29,
   "id": "cb7139a0",
   "metadata": {},
   "outputs": [
    {
     "data": {
      "text/plain": [
       "array([[1, 2, 3],\n",
       "       [4, 5, 6]])"
      ]
     },
     "execution_count": 29,
     "metadata": {},
     "output_type": "execute_result"
    }
   ],
   "source": [
    "a2"
   ]
  },
  {
   "cell_type": "markdown",
   "id": "80fc3e3c",
   "metadata": {},
   "source": [
    "`np.sort()` sorts the array per axis."
   ]
  },
  {
   "cell_type": "code",
   "execution_count": 31,
   "id": "7edfc166",
   "metadata": {},
   "outputs": [
    {
     "data": {
      "text/plain": [
       "array([[1, 2, 3],\n",
       "       [4, 5, 6]])"
      ]
     },
     "execution_count": 31,
     "metadata": {},
     "output_type": "execute_result"
    }
   ],
   "source": [
    "np.sort(a2)"
   ]
  },
  {
   "cell_type": "markdown",
   "id": "7cd03b39",
   "metadata": {},
   "source": [
    "`np.argsort()` returns an array of indices starting from 0 - the smallest array element, to whatever index for the largest dependion on how they are spread in the array."
   ]
  },
  {
   "cell_type": "code",
   "execution_count": 46,
   "id": "0f727edc",
   "metadata": {},
   "outputs": [
    {
     "data": {
      "text/plain": [
       "array([[4, 8, 5],\n",
       "       [5, 9, 2],\n",
       "       [5, 5, 6]])"
      ]
     },
     "execution_count": 46,
     "metadata": {},
     "output_type": "execute_result"
    }
   ],
   "source": [
    "np.random.seed(346)\n",
    "a3 = np.random.randint(10, size=(3, 3))\n",
    "a3"
   ]
  },
  {
   "cell_type": "code",
   "execution_count": 47,
   "id": "c256a1bd",
   "metadata": {},
   "outputs": [
    {
     "data": {
      "text/plain": [
       "array([[0, 2, 1],\n",
       "       [2, 0, 1],\n",
       "       [0, 1, 2]], dtype=int64)"
      ]
     },
     "execution_count": 47,
     "metadata": {},
     "output_type": "execute_result"
    }
   ],
   "source": [
    "np.argsort(a3)"
   ]
  },
  {
   "cell_type": "markdown",
   "id": "87d0354b",
   "metadata": {},
   "source": [
    "To get index of smallest array element:"
   ]
  },
  {
   "cell_type": "code",
   "execution_count": 48,
   "id": "e75a969e",
   "metadata": {},
   "outputs": [
    {
     "data": {
      "text/plain": [
       "5"
      ]
     },
     "execution_count": 48,
     "metadata": {},
     "output_type": "execute_result"
    }
   ],
   "source": [
    "np.argmin(a3)"
   ]
  },
  {
   "cell_type": "code",
   "execution_count": 51,
   "id": "447f62da",
   "metadata": {},
   "outputs": [
    {
     "data": {
      "text/plain": [
       "array([[4, 8, 5],\n",
       "       [5, 9, 2],\n",
       "       [5, 5, 6]])"
      ]
     },
     "execution_count": 51,
     "metadata": {},
     "output_type": "execute_result"
    }
   ],
   "source": [
    "a3"
   ]
  },
  {
   "cell_type": "code",
   "execution_count": 52,
   "id": "1f96ef77",
   "metadata": {},
   "outputs": [
    {
     "data": {
      "text/plain": [
       "array([1, 1, 2], dtype=int64)"
      ]
     },
     "execution_count": 52,
     "metadata": {},
     "output_type": "execute_result"
    }
   ],
   "source": [
    "# Axis 0 == y axis comparisons\n",
    "np.argmax(a3, axis=0)"
   ]
  },
  {
   "cell_type": "code",
   "execution_count": 50,
   "id": "c2ec4b9d",
   "metadata": {},
   "outputs": [
    {
     "data": {
      "text/plain": [
       "array([1, 1, 2], dtype=int64)"
      ]
     },
     "execution_count": 50,
     "metadata": {},
     "output_type": "execute_result"
    }
   ],
   "source": [
    "np.argmax(a3, axis=1)"
   ]
  },
  {
   "cell_type": "markdown",
   "id": "6c73df86",
   "metadata": {},
   "source": [
    "## Numpy in Action"
   ]
  },
  {
   "cell_type": "code",
   "execution_count": 53,
   "id": "10ed6ac7",
   "metadata": {},
   "outputs": [],
   "source": [
    "# Converting images to pixel colors in numbers\n",
    "from matplotlib.image import imread"
   ]
  },
  {
   "cell_type": "markdown",
   "id": "b4e7cbd7",
   "metadata": {},
   "source": [
    "<img src=\"images/panda.png\" alt=\"Panda\" />"
   ]
  },
  {
   "cell_type": "code",
   "execution_count": 56,
   "id": "5a21e0c6",
   "metadata": {},
   "outputs": [
    {
     "name": "stdout",
     "output_type": "stream",
     "text": [
      "<class 'numpy.ndarray'>\n"
     ]
    }
   ],
   "source": [
    "panda = imread('images/panda.png')\n",
    "print(type(panda))"
   ]
  },
  {
   "cell_type": "code",
   "execution_count": 58,
   "id": "c5a1f043",
   "metadata": {},
   "outputs": [
    {
     "data": {
      "text/plain": [
       "(array([[[0.05490196, 0.10588235, 0.06666667],\n",
       "         [0.05490196, 0.10588235, 0.06666667],\n",
       "         [0.05490196, 0.10588235, 0.06666667],\n",
       "         ...,\n",
       "         [0.16470589, 0.12941177, 0.09411765],\n",
       "         [0.16470589, 0.12941177, 0.09411765],\n",
       "         [0.16470589, 0.12941177, 0.09411765]]], dtype=float32),\n",
       " 24465000)"
      ]
     },
     "execution_count": 58,
     "metadata": {},
     "output_type": "execute_result"
    }
   ],
   "source": [
    "panda[:1], panda.size"
   ]
  },
  {
   "cell_type": "code",
   "execution_count": null,
   "id": "7cb9154b",
   "metadata": {},
   "outputs": [],
   "source": []
  }
 ],
 "metadata": {
  "kernelspec": {
   "display_name": "Python 3 (ipykernel)",
   "language": "python",
   "name": "python3"
  },
  "language_info": {
   "codemirror_mode": {
    "name": "ipython",
    "version": 3
   },
   "file_extension": ".py",
   "mimetype": "text/x-python",
   "name": "python",
   "nbconvert_exporter": "python",
   "pygments_lexer": "ipython3",
   "version": "3.10.13"
  }
 },
 "nbformat": 4,
 "nbformat_minor": 5
}
