{
 "cells": [
  {
   "cell_type": "code",
   "execution_count": 1,
   "id": "7fe757b4",
   "metadata": {},
   "outputs": [],
   "source": [
    "import numpy as np"
   ]
  },
  {
   "cell_type": "markdown",
   "id": "d23c4bee",
   "metadata": {},
   "source": [
    "# Numpy, DataTypes & Attributes"
   ]
  },
  {
   "cell_type": "markdown",
   "id": "460db270",
   "metadata": {},
   "source": [
    "Main datatype is `ndarray` for n-dimensional array."
   ]
  },
  {
   "cell_type": "code",
   "execution_count": 4,
   "id": "27b77e8a",
   "metadata": {},
   "outputs": [
    {
     "data": {
      "text/plain": [
       "array([[1, 2, 3],\n",
       "       [4, 5, 6]])"
      ]
     },
     "execution_count": 4,
     "metadata": {},
     "output_type": "execute_result"
    }
   ],
   "source": [
    "# 1D\n",
    "a1 = np.array([1, 2, 3])\n",
    "# 2D\n",
    "a2 = np.array([[1, 2, 3], [4, 5, 6]])\n",
    "a2"
   ]
  },
  {
   "cell_type": "code",
   "execution_count": 5,
   "id": "ac35acfd",
   "metadata": {},
   "outputs": [
    {
     "data": {
      "text/plain": [
       "(2, 3)"
      ]
     },
     "execution_count": 5,
     "metadata": {},
     "output_type": "execute_result"
    }
   ],
   "source": [
    "# Rows, cols\n",
    "a2.shape"
   ]
  },
  {
   "cell_type": "markdown",
   "id": "2f5aa277",
   "metadata": {},
   "source": [
    "You can view number of dimensions through: `arr.ndim`"
   ]
  },
  {
   "cell_type": "code",
   "execution_count": 6,
   "id": "204b0d13",
   "metadata": {},
   "outputs": [
    {
     "data": {
      "text/plain": [
       "(1, 2)"
      ]
     },
     "execution_count": 6,
     "metadata": {},
     "output_type": "execute_result"
    }
   ],
   "source": [
    "a1.ndim, a2.ndim"
   ]
  },
  {
   "cell_type": "code",
   "execution_count": 7,
   "id": "71f7626d",
   "metadata": {},
   "outputs": [
    {
     "data": {
      "text/plain": [
       "6"
      ]
     },
     "execution_count": 7,
     "metadata": {},
     "output_type": "execute_result"
    }
   ],
   "source": [
    "# Number of elements\n",
    "a2.size"
   ]
  },
  {
   "cell_type": "code",
   "execution_count": 8,
   "id": "1ff4cba7",
   "metadata": {},
   "outputs": [
    {
     "data": {
      "text/plain": [
       "numpy.ndarray"
      ]
     },
     "execution_count": 8,
     "metadata": {},
     "output_type": "execute_result"
    }
   ],
   "source": [
    "type(a1)"
   ]
  },
  {
   "cell_type": "markdown",
   "id": "a5b1e227",
   "metadata": {},
   "source": [
    "### Create df from ndarray"
   ]
  },
  {
   "cell_type": "code",
   "execution_count": 9,
   "id": "c05eb34e",
   "metadata": {},
   "outputs": [
    {
     "data": {
      "text/html": [
       "<div>\n",
       "<style scoped>\n",
       "    .dataframe tbody tr th:only-of-type {\n",
       "        vertical-align: middle;\n",
       "    }\n",
       "\n",
       "    .dataframe tbody tr th {\n",
       "        vertical-align: top;\n",
       "    }\n",
       "\n",
       "    .dataframe thead th {\n",
       "        text-align: right;\n",
       "    }\n",
       "</style>\n",
       "<table border=\"1\" class=\"dataframe\">\n",
       "  <thead>\n",
       "    <tr style=\"text-align: right;\">\n",
       "      <th></th>\n",
       "      <th>0</th>\n",
       "      <th>1</th>\n",
       "      <th>2</th>\n",
       "    </tr>\n",
       "  </thead>\n",
       "  <tbody>\n",
       "    <tr>\n",
       "      <th>0</th>\n",
       "      <td>1</td>\n",
       "      <td>2</td>\n",
       "      <td>3</td>\n",
       "    </tr>\n",
       "    <tr>\n",
       "      <th>1</th>\n",
       "      <td>4</td>\n",
       "      <td>5</td>\n",
       "      <td>6</td>\n",
       "    </tr>\n",
       "  </tbody>\n",
       "</table>\n",
       "</div>"
      ],
      "text/plain": [
       "   0  1  2\n",
       "0  1  2  3\n",
       "1  4  5  6"
      ]
     },
     "execution_count": 9,
     "metadata": {},
     "output_type": "execute_result"
    }
   ],
   "source": [
    "import pandas as pd\n",
    "df = pd.DataFrame(a2)\n",
    "df"
   ]
  },
  {
   "cell_type": "markdown",
   "id": "eb137411",
   "metadata": {},
   "source": [
    "## Creating np arrays"
   ]
  },
  {
   "cell_type": "code",
   "execution_count": 10,
   "id": "571632f2",
   "metadata": {},
   "outputs": [
    {
     "data": {
      "text/plain": [
       "array([[1., 1., 1.],\n",
       "       [1., 1., 1.],\n",
       "       [1., 1., 1.]])"
      ]
     },
     "execution_count": 10,
     "metadata": {},
     "output_type": "execute_result"
    }
   ],
   "source": [
    "ones = np.ones((3, 3))\n",
    "ones"
   ]
  },
  {
   "cell_type": "code",
   "execution_count": 11,
   "id": "91dacf2c",
   "metadata": {},
   "outputs": [
    {
     "data": {
      "text/plain": [
       "array([1, 3, 5, 7, 9])"
      ]
     },
     "execution_count": 11,
     "metadata": {},
     "output_type": "execute_result"
    }
   ],
   "source": [
    "range_arr = np.arange(1, 10, 2)\n",
    "range_arr"
   ]
  },
  {
   "cell_type": "code",
   "execution_count": 12,
   "id": "4dfae991",
   "metadata": {},
   "outputs": [
    {
     "data": {
      "text/plain": [
       "array([[9, 2, 3, 9, 4],\n",
       "       [9, 2, 1, 9, 4],\n",
       "       [5, 1, 5, 4, 8],\n",
       "       [5, 8, 4, 5, 4]])"
      ]
     },
     "execution_count": 12,
     "metadata": {},
     "output_type": "execute_result"
    }
   ],
   "source": [
    "rand_nd_arr = np.random.randint(1, 10, (4, 5))\n",
    "rand_nd_arr"
   ]
  },
  {
   "cell_type": "code",
   "execution_count": 14,
   "id": "5245596e",
   "metadata": {},
   "outputs": [
    {
     "data": {
      "text/plain": [
       "array([[0.28033319, 0.69320493, 0.1410107 , 0.83950822],\n",
       "       [0.05020783, 0.42485319, 0.69599998, 0.33508208],\n",
       "       [0.35426995, 0.53348203, 0.25780237, 0.30059705]])"
      ]
     },
     "execution_count": 14,
     "metadata": {},
     "output_type": "execute_result"
    }
   ],
   "source": [
    "rand_nd_arr2 = np.random.random((3, 4))\n",
    "rand_nd_arr2"
   ]
  },
  {
   "cell_type": "code",
   "execution_count": 16,
   "id": "b7f907c7",
   "metadata": {},
   "outputs": [
    {
     "data": {
      "text/plain": [
       "array([[0.36001088, 0.60196958, 0.41274975, 0.0225136 ],\n",
       "       [0.26152616, 0.71011438, 0.94846637, 0.97160124],\n",
       "       [0.12160709, 0.78707276, 0.00714423, 0.53652382]])"
      ]
     },
     "execution_count": 16,
     "metadata": {},
     "output_type": "execute_result"
    }
   ],
   "source": [
    "rand_nd_arr3 = np.random.rand(3, 4)\n",
    "rand_nd_arr3"
   ]
  },
  {
   "cell_type": "code",
   "execution_count": null,
   "id": "24d3ae28",
   "metadata": {},
   "outputs": [],
   "source": []
  }
 ],
 "metadata": {
  "kernelspec": {
   "display_name": "Python 3 (ipykernel)",
   "language": "python",
   "name": "python3"
  },
  "language_info": {
   "codemirror_mode": {
    "name": "ipython",
    "version": 3
   },
   "file_extension": ".py",
   "mimetype": "text/x-python",
   "name": "python",
   "nbconvert_exporter": "python",
   "pygments_lexer": "ipython3",
   "version": "3.10.13"
  }
 },
 "nbformat": 4,
 "nbformat_minor": 5
}
